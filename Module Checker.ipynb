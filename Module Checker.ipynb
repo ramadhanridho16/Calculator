{
 "cells": [
  {
   "cell_type": "code",
   "execution_count": 1,
   "id": "065a9e92",
   "metadata": {},
   "outputs": [],
   "source": [
    "import calculator as calc"
   ]
  },
  {
   "cell_type": "code",
   "execution_count": 2,
   "id": "d913efc9",
   "metadata": {},
   "outputs": [
    {
     "name": "stdout",
     "output_type": "stream",
     "text": [
      "15\n"
     ]
    }
   ],
   "source": [
    "print(calc.sum(5, 10))"
   ]
  },
  {
   "cell_type": "code",
   "execution_count": 3,
   "id": "3a93a54d",
   "metadata": {},
   "outputs": [
    {
     "name": "stdout",
     "output_type": "stream",
     "text": [
      "-5\n"
     ]
    }
   ],
   "source": [
    "print(calc.subtract(5,10))"
   ]
  },
  {
   "cell_type": "code",
   "execution_count": 4,
   "id": "a958315c",
   "metadata": {},
   "outputs": [
    {
     "name": "stdout",
     "output_type": "stream",
     "text": [
      "50\n"
     ]
    }
   ],
   "source": [
    "print(calc.multiplication(5,10))"
   ]
  },
  {
   "cell_type": "code",
   "execution_count": 5,
   "id": "87c95ce7",
   "metadata": {},
   "outputs": [
    {
     "name": "stdout",
     "output_type": "stream",
     "text": [
      "0.5\n"
     ]
    }
   ],
   "source": [
    "print(calc.divide(5,10))"
   ]
  },
  {
   "cell_type": "code",
   "execution_count": null,
   "id": "b5b5aa58",
   "metadata": {},
   "outputs": [],
   "source": []
  }
 ],
 "metadata": {
  "kernelspec": {
   "display_name": "Python 3 (ipykernel)",
   "language": "python",
   "name": "python3"
  },
  "language_info": {
   "codemirror_mode": {
    "name": "ipython",
    "version": 3
   },
   "file_extension": ".py",
   "mimetype": "text/x-python",
   "name": "python",
   "nbconvert_exporter": "python",
   "pygments_lexer": "ipython3",
   "version": "3.10.1"
  },
  "toc": {
   "base_numbering": 1,
   "nav_menu": {},
   "number_sections": true,
   "sideBar": true,
   "skip_h1_title": false,
   "title_cell": "Table of Contents",
   "title_sidebar": "Contents",
   "toc_cell": false,
   "toc_position": {},
   "toc_section_display": true,
   "toc_window_display": false
  }
 },
 "nbformat": 4,
 "nbformat_minor": 5
}
